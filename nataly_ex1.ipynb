{
 "cells": [
  {
   "cell_type": "code",
   "execution_count": 16,
   "id": "3a245ca3",
   "metadata": {
    "scrolled": true
   },
   "outputs": [
    {
     "name": "stdout",
     "output_type": "stream",
     "text": [
      "Requirement already satisfied: tensorflow in c:\\anaconda3\\envs\\py39\\lib\\site-packages (2.7.0)\n",
      "Requirement already satisfied: grpcio<2.0,>=1.24.3 in c:\\anaconda3\\envs\\py39\\lib\\site-packages (from tensorflow) (1.43.0)\n",
      "Requirement already satisfied: numpy>=1.14.5 in c:\\anaconda3\\envs\\py39\\lib\\site-packages (from tensorflow) (1.20.3)\n",
      "Requirement already satisfied: gast<0.5.0,>=0.2.1 in c:\\anaconda3\\envs\\py39\\lib\\site-packages (from tensorflow) (0.4.0)\n",
      "Requirement already satisfied: wheel<1.0,>=0.32.0 in c:\\anaconda3\\envs\\py39\\lib\\site-packages (from tensorflow) (0.37.0)\n",
      "Requirement already satisfied: opt-einsum>=2.3.2 in c:\\anaconda3\\envs\\py39\\lib\\site-packages (from tensorflow) (3.3.0)\n",
      "Requirement already satisfied: absl-py>=0.4.0 in c:\\anaconda3\\envs\\py39\\lib\\site-packages (from tensorflow) (1.0.0)\n",
      "Requirement already satisfied: typing-extensions>=3.6.6 in c:\\anaconda3\\envs\\py39\\lib\\site-packages (from tensorflow) (3.10.0.2)\n",
      "Requirement already satisfied: libclang>=9.0.1 in c:\\anaconda3\\envs\\py39\\lib\\site-packages (from tensorflow) (12.0.0)\n",
      "Requirement already satisfied: wrapt>=1.11.0 in c:\\anaconda3\\envs\\py39\\lib\\site-packages (from tensorflow) (1.12.1)\n",
      "Requirement already satisfied: flatbuffers<3.0,>=1.12 in c:\\anaconda3\\envs\\py39\\lib\\site-packages (from tensorflow) (2.0)\n",
      "Requirement already satisfied: astunparse>=1.6.0 in c:\\anaconda3\\envs\\py39\\lib\\site-packages (from tensorflow) (1.6.3)\n",
      "Requirement already satisfied: google-pasta>=0.1.1 in c:\\anaconda3\\envs\\py39\\lib\\site-packages (from tensorflow) (0.2.0)\n",
      "Requirement already satisfied: tensorflow-estimator<2.8,~=2.7.0rc0 in c:\\anaconda3\\envs\\py39\\lib\\site-packages (from tensorflow) (2.7.0)\n",
      "Requirement already satisfied: tensorboard~=2.6 in c:\\anaconda3\\envs\\py39\\lib\\site-packages (from tensorflow) (2.7.0)\n",
      "Requirement already satisfied: keras<2.8,>=2.7.0rc0 in c:\\anaconda3\\envs\\py39\\lib\\site-packages (from tensorflow) (2.7.0)\n",
      "Requirement already satisfied: tensorflow-io-gcs-filesystem>=0.21.0 in c:\\anaconda3\\envs\\py39\\lib\\site-packages (from tensorflow) (0.23.1)\n",
      "Requirement already satisfied: keras-preprocessing>=1.1.1 in c:\\anaconda3\\envs\\py39\\lib\\site-packages (from tensorflow) (1.1.2)\n",
      "Requirement already satisfied: termcolor>=1.1.0 in c:\\anaconda3\\envs\\py39\\lib\\site-packages (from tensorflow) (1.1.0)\n",
      "Requirement already satisfied: h5py>=2.9.0 in c:\\anaconda3\\envs\\py39\\lib\\site-packages (from tensorflow) (3.6.0)\n",
      "Requirement already satisfied: protobuf>=3.9.2 in c:\\anaconda3\\envs\\py39\\lib\\site-packages (from tensorflow) (3.19.1)\n",
      "Requirement already satisfied: six>=1.12.0 in c:\\anaconda3\\envs\\py39\\lib\\site-packages (from tensorflow) (1.16.0)\n",
      "Requirement already satisfied: tensorboard-plugin-wit>=1.6.0 in c:\\anaconda3\\envs\\py39\\lib\\site-packages (from tensorboard~=2.6->tensorflow) (1.8.0)\n",
      "Requirement already satisfied: tensorboard-data-server<0.7.0,>=0.6.0 in c:\\anaconda3\\envs\\py39\\lib\\site-packages (from tensorboard~=2.6->tensorflow) (0.6.1)\n",
      "Requirement already satisfied: setuptools>=41.0.0 in c:\\anaconda3\\envs\\py39\\lib\\site-packages (from tensorboard~=2.6->tensorflow) (58.0.4)\n",
      "Requirement already satisfied: werkzeug>=0.11.15 in c:\\anaconda3\\envs\\py39\\lib\\site-packages (from tensorboard~=2.6->tensorflow) (2.0.2)\n",
      "Requirement already satisfied: requests<3,>=2.21.0 in c:\\anaconda3\\envs\\py39\\lib\\site-packages (from tensorboard~=2.6->tensorflow) (2.26.0)\n",
      "Requirement already satisfied: markdown>=2.6.8 in c:\\anaconda3\\envs\\py39\\lib\\site-packages (from tensorboard~=2.6->tensorflow) (3.3.6)\n",
      "Requirement already satisfied: google-auth<3,>=1.6.3 in c:\\anaconda3\\envs\\py39\\lib\\site-packages (from tensorboard~=2.6->tensorflow) (2.3.3)\n",
      "Requirement already satisfied: google-auth-oauthlib<0.5,>=0.4.1 in c:\\anaconda3\\envs\\py39\\lib\\site-packages (from tensorboard~=2.6->tensorflow) (0.4.6)\n",
      "Requirement already satisfied: cachetools<5.0,>=2.0.0 in c:\\anaconda3\\envs\\py39\\lib\\site-packages (from google-auth<3,>=1.6.3->tensorboard~=2.6->tensorflow) (4.2.4)\n",
      "Requirement already satisfied: pyasn1-modules>=0.2.1 in c:\\anaconda3\\envs\\py39\\lib\\site-packages (from google-auth<3,>=1.6.3->tensorboard~=2.6->tensorflow) (0.2.8)\n",
      "Requirement already satisfied: rsa<5,>=3.1.4 in c:\\anaconda3\\envs\\py39\\lib\\site-packages (from google-auth<3,>=1.6.3->tensorboard~=2.6->tensorflow) (4.8)\n",
      "Requirement already satisfied: requests-oauthlib>=0.7.0 in c:\\anaconda3\\envs\\py39\\lib\\site-packages (from google-auth-oauthlib<0.5,>=0.4.1->tensorboard~=2.6->tensorflow) (1.3.0)\n",
      "Requirement already satisfied: importlib-metadata>=4.4 in c:\\anaconda3\\envs\\py39\\lib\\site-packages (from markdown>=2.6.8->tensorboard~=2.6->tensorflow) (4.8.2)\n",
      "Requirement already satisfied: zipp>=0.5 in c:\\anaconda3\\envs\\py39\\lib\\site-packages (from importlib-metadata>=4.4->markdown>=2.6.8->tensorboard~=2.6->tensorflow) (3.6.0)\n",
      "Requirement already satisfied: pyasn1<0.5.0,>=0.4.6 in c:\\anaconda3\\envs\\py39\\lib\\site-packages (from pyasn1-modules>=0.2.1->google-auth<3,>=1.6.3->tensorboard~=2.6->tensorflow) (0.4.8)\n",
      "Requirement already satisfied: urllib3<1.27,>=1.21.1 in c:\\anaconda3\\envs\\py39\\lib\\site-packages (from requests<3,>=2.21.0->tensorboard~=2.6->tensorflow) (1.26.7)\n",
      "Requirement already satisfied: certifi>=2017.4.17 in c:\\anaconda3\\envs\\py39\\lib\\site-packages (from requests<3,>=2.21.0->tensorboard~=2.6->tensorflow) (2021.10.8)\n",
      "Requirement already satisfied: charset-normalizer~=2.0.0 in c:\\anaconda3\\envs\\py39\\lib\\site-packages (from requests<3,>=2.21.0->tensorboard~=2.6->tensorflow) (2.0.4)\n",
      "Requirement already satisfied: idna<4,>=2.5 in c:\\anaconda3\\envs\\py39\\lib\\site-packages (from requests<3,>=2.21.0->tensorboard~=2.6->tensorflow) (3.3)\n",
      "Requirement already satisfied: oauthlib>=3.0.0 in c:\\anaconda3\\envs\\py39\\lib\\site-packages (from requests-oauthlib>=0.7.0->google-auth-oauthlib<0.5,>=0.4.1->tensorboard~=2.6->tensorflow) (3.1.1)\n"
     ]
    }
   ],
   "source": [
    "!pip install tensorflow"
   ]
  },
  {
   "cell_type": "code",
   "execution_count": 18,
   "id": "52f2bb49",
   "metadata": {},
   "outputs": [
    {
     "name": "stdout",
     "output_type": "stream",
     "text": [
      "Requirement already satisfied: matplotlib in c:\\anaconda3\\envs\\py39\\lib\\site-packages (3.5.0)\n",
      "Requirement already satisfied: cycler>=0.10 in c:\\anaconda3\\envs\\py39\\lib\\site-packages (from matplotlib) (0.11.0)\n",
      "Requirement already satisfied: kiwisolver>=1.0.1 in c:\\anaconda3\\envs\\py39\\lib\\site-packages (from matplotlib) (1.3.1)\n",
      "Requirement already satisfied: pillow>=6.2.0 in c:\\anaconda3\\envs\\py39\\lib\\site-packages (from matplotlib) (8.4.0)\n",
      "Requirement already satisfied: numpy>=1.17 in c:\\anaconda3\\envs\\py39\\lib\\site-packages (from matplotlib) (1.20.3)\n",
      "Requirement already satisfied: pyparsing>=2.2.1 in c:\\anaconda3\\envs\\py39\\lib\\site-packages (from matplotlib) (3.0.4)\n",
      "Requirement already satisfied: packaging>=20.0 in c:\\anaconda3\\envs\\py39\\lib\\site-packages (from matplotlib) (21.3)\n",
      "Requirement already satisfied: fonttools>=4.22.0 in c:\\anaconda3\\envs\\py39\\lib\\site-packages (from matplotlib) (4.25.0)\n",
      "Requirement already satisfied: python-dateutil>=2.7 in c:\\anaconda3\\envs\\py39\\lib\\site-packages (from matplotlib) (2.8.2)\n",
      "Requirement already satisfied: six>=1.5 in c:\\anaconda3\\envs\\py39\\lib\\site-packages (from python-dateutil>=2.7->matplotlib) (1.16.0)\n"
     ]
    }
   ],
   "source": [
    "!pip install matplotlib"
   ]
  },
  {
   "cell_type": "code",
   "execution_count": 19,
   "id": "ad5061d5",
   "metadata": {},
   "outputs": [
    {
     "name": "stdout",
     "output_type": "stream",
     "text": [
      "Requirement already satisfied: sklearn in c:\\anaconda3\\envs\\py39\\lib\\site-packages (0.0)\n",
      "Requirement already satisfied: scikit-learn in c:\\anaconda3\\envs\\py39\\lib\\site-packages (from sklearn) (1.0.1)\n",
      "Requirement already satisfied: joblib>=0.11 in c:\\anaconda3\\envs\\py39\\lib\\site-packages (from scikit-learn->sklearn) (1.1.0)\n",
      "Requirement already satisfied: scipy>=1.1.0 in c:\\anaconda3\\envs\\py39\\lib\\site-packages (from scikit-learn->sklearn) (1.7.1)\n",
      "Requirement already satisfied: threadpoolctl>=2.0.0 in c:\\anaconda3\\envs\\py39\\lib\\site-packages (from scikit-learn->sklearn) (2.2.0)\n",
      "Requirement already satisfied: numpy>=1.14.6 in c:\\anaconda3\\envs\\py39\\lib\\site-packages (from scikit-learn->sklearn) (1.20.3)\n"
     ]
    }
   ],
   "source": [
    "!pip install sklearn"
   ]
  },
  {
   "cell_type": "code",
   "execution_count": 20,
   "id": "c41e2669",
   "metadata": {},
   "outputs": [],
   "source": [
    "import tensorflow as tf\n",
    "import numpy as np\n",
    "import matplotlib.pyplot as plt\n",
    "import os\n",
    "from tensorflow.keras.models import Sequential\n",
    "from tensorflow.keras.layers import Dense, Flatten\n",
    "from tensorflow.keras.preprocessing.image import ImageDataGenerator\n",
    "from tensorflow.keras.optimizers import Adam"
   ]
  },
  {
   "cell_type": "code",
   "execution_count": 21,
   "id": "0c4165a0",
   "metadata": {},
   "outputs": [],
   "source": [
    "#Keras Libraries\n",
    "import keras\n",
    "from keras import optimizers\n",
    "import matplotlib.pyplot as plt\n",
    "from tensorflow.keras import datasets, layers, models\n",
    "from keras.layers import Activation\n",
    "from keras.models import Sequential\n",
    "from keras.layers import Conv2D\n",
    "from keras.layers import MaxPooling2D\n",
    "from keras.layers import Flatten\n",
    "from keras.layers import Dense\n",
    "from keras.preprocessing.image import ImageDataGenerator, load_img\n",
    "from sklearn.metrics import classification_report, confusion_matrix"
   ]
  },
  {
   "cell_type": "code",
   "execution_count": 22,
   "id": "fac1e976",
   "metadata": {},
   "outputs": [
    {
     "name": "stdout",
     "output_type": "stream",
     "text": [
      "Accout train normal is: 1341 and Accout train PNEUMONIA is 3875\n",
      "Accout test normal is :  234 and Accout test PNEUMONIA is 390\n",
      "Total images in the training set:  5216\n",
      "Total images in the test set:  624\n"
     ]
    }
   ],
   "source": [
    "read_folder = r'C:\\nataly\\EX1 - deep learning\\chest_xray'\n",
    "\n",
    "train_read_folder = os.path.join(read_folder, 'train')\n",
    "test_read_folder = os.path.join(read_folder, 'test')\n",
    "val_read_folder = os.path.join(read_folder, 'val')\n",
    "train_PNEUMONIA_read_folder = os.path.join(train_read_folder, 'PNEUMONIA')\n",
    "train_NORMAL_read_folder = os.path.join(train_read_folder, 'NORMAL')\n",
    "test_PNEUMONIA_read_folder = os.path.join(test_read_folder, 'PNEUMONIA')\n",
    "test_NORMAL_read_folder = os.path.join(test_read_folder, 'NORMAL')\n",
    "\n",
    "# Extracting all file names\n",
    "\n",
    "train_PNEUMONIA_files = os.listdir(train_PNEUMONIA_read_folder)\n",
    "train_NORMAL_files = os.listdir(train_NORMAL_read_folder)\n",
    "test_PNEUMONIA_files = os.listdir(test_PNEUMONIA_read_folder)\n",
    "test_NORMAL_files = os.listdir(test_NORMAL_read_folder)\n",
    "\n",
    "print ( \"Accout train normal is:\" , len(train_NORMAL_files), \"and Accout train PNEUMONIA is\", len(train_PNEUMONIA_files))\n",
    "print (\"Accout test normal is : \" ,len(test_NORMAL_files), \"and Accout test PNEUMONIA is\" , len(test_PNEUMONIA_files))\n",
    "print(\"Total images in the training set: \", len(train_PNEUMONIA_files+train_NORMAL_files))\n",
    "print(\"Total images in the test set: \", len(test_PNEUMONIA_files+test_NORMAL_files))\n"
   ]
  },
  {
   "cell_type": "markdown",
   "id": "b083eb82",
   "metadata": {},
   "source": [
    "#SECTION A"
   ]
  },
  {
   "cell_type": "code",
   "execution_count": 24,
   "id": "c59fe755",
   "metadata": {},
   "outputs": [
    {
     "name": "stdout",
     "output_type": "stream",
     "text": [
      "Found 5216 images belonging to 2 classes.\n",
      "Found 624 images belonging to 2 classes.\n",
      "Found 16 images belonging to 2 classes.\n",
      "test data BATCH SIZE is 14\n",
      "shape is :  (224, 224, 1)\n",
      "train data BATCH SIZE is: 116\n",
      "the kind of classes is:  {'NORMAL': 0, 'PNEUMONIA': 1}\n",
      "the number of classes is:  2\n"
     ]
    }
   ],
   "source": [
    "BATCH_SIZE=45\n",
    "train_normalization = ImageDataGenerator(rescale=1./255)\n",
    "test_normalization = ImageDataGenerator(rescale=1./255)\n",
    "val_normalization = ImageDataGenerator(rescale=1./255)\n",
    "\n",
    "train_directory=train_read_folder\n",
    "test_directory=test_read_folder\n",
    "val_directory=val_read_folder\n",
    "\n",
    "train_data=train_normalization.flow_from_directory(train_directory, target_size=(224,224),class_mode='binary', batch_size= BATCH_SIZE, color_mode='grayscale')\n",
    "test_data=test_normalization.flow_from_directory(test_directory, target_size=(224,224),class_mode='binary',batch_size= BATCH_SIZE, color_mode='grayscale')\n",
    "val_data=val_normalization.flow_from_directory(val_directory, target_size=(224,224),class_mode='binary', batch_size= 2, color_mode='grayscale')\n",
    "\n",
    "print('test data BATCH SIZE is',len(test_data))\n",
    "print('shape is : ',test_data.image_shape)\n",
    "print('train data BATCH SIZE is:' ,len(train_data))\n",
    "print(\"the kind of classes is: \",train_data.class_indices)\n",
    "print(\"the number of classes is: \",train_data.num_classes)\n",
    "\n"
   ]
  },
  {
   "cell_type": "code",
   "execution_count": 25,
   "id": "e86c1951",
   "metadata": {},
   "outputs": [
    {
     "name": "stdout",
     "output_type": "stream",
     "text": [
      "Model: \"my_sequential_Dnn\"\n",
      "_________________________________________________________________\n",
      " Layer (type)                Output Shape              Param #   \n",
      "=================================================================\n",
      " flatten_1 (Flatten)         (None, 50176)             0         \n",
      "                                                                 \n",
      " Dense1 (Dense)              (None, 128)               6422656   \n",
      "                                                                 \n",
      " Dense2 (Dense)              (None, 128)               16512     \n",
      "                                                                 \n",
      " Dense3 (Dense)              (None, 64)                8256      \n",
      "                                                                 \n",
      " Dense4 (Dense)              (None, 32)                2080      \n",
      "                                                                 \n",
      " Dense5 (Dense)              (None, 1)                 33        \n",
      "                                                                 \n",
      "=================================================================\n",
      "Total params: 6,449,537\n",
      "Trainable params: 6,449,537\n",
      "Non-trainable params: 0\n",
      "_________________________________________________________________\n"
     ]
    }
   ],
   "source": [
    "model = keras.Sequential(name=\"my_sequential_Dnn\")\n",
    "model.add(layers.Flatten(input_shape=(224,224,1)))\n",
    "model.add(layers.Dense(128, activation='relu', name='Dense1'))\n",
    "model.add(layers.Dense(128, activation='relu', name='Dense2'))\n",
    "model.add(layers.Dense(64, activation='relu', name='Dense3'))\n",
    "model.add(layers.Dense(32, activation='relu', name='Dense4'))\n",
    "model.add(layers.Dense(1, activation='sigmoid', name='Dense5'))\n",
    "model.summary()"
   ]
  },
  {
   "cell_type": "code",
   "execution_count": 26,
   "id": "22f0ace3",
   "metadata": {
    "scrolled": true
   },
   "outputs": [],
   "source": [
    "model.compile(loss='binary_crossentropy', optimizer = Adam(learning_rate=5e-5), metrics=['accuracy'])"
   ]
  },
  {
   "cell_type": "markdown",
   "id": "ecc9e9a3",
   "metadata": {},
   "source": [
    "Section number B"
   ]
  },
  {
   "cell_type": "code",
   "execution_count": 27,
   "id": "36af174e",
   "metadata": {},
   "outputs": [
    {
     "name": "stdout",
     "output_type": "stream",
     "text": [
      "Epoch 1/50\n",
      "116/116 [==============================] - 123s 1s/step - loss: 0.3053 - accuracy: 0.8669 - val_loss: 0.4705 - val_accuracy: 0.8125\n",
      "Epoch 2/50\n",
      "116/116 [==============================] - 103s 886ms/step - loss: 0.1677 - accuracy: 0.9358 - val_loss: 0.2999 - val_accuracy: 0.8750\n",
      "Epoch 3/50\n",
      "116/116 [==============================] - 83s 717ms/step - loss: 0.1352 - accuracy: 0.9490 - val_loss: 0.2075 - val_accuracy: 0.9375\n",
      "Epoch 4/50\n",
      "116/116 [==============================] - 85s 734ms/step - loss: 0.1310 - accuracy: 0.9492 - val_loss: 0.2696 - val_accuracy: 0.9375\n",
      "Epoch 5/50\n",
      "116/116 [==============================] - 88s 760ms/step - loss: 0.1227 - accuracy: 0.9505 - val_loss: 0.6040 - val_accuracy: 0.6875\n",
      "Epoch 6/50\n",
      "116/116 [==============================] - 89s 766ms/step - loss: 0.1277 - accuracy: 0.9503 - val_loss: 0.3949 - val_accuracy: 0.8125\n",
      "Epoch 7/50\n",
      "116/116 [==============================] - 92s 787ms/step - loss: 0.1227 - accuracy: 0.9532 - val_loss: 0.6160 - val_accuracy: 0.7500\n",
      "Epoch 8/50\n",
      "116/116 [==============================] - 86s 741ms/step - loss: 0.1228 - accuracy: 0.9521 - val_loss: 0.5630 - val_accuracy: 0.8125\n",
      "Epoch 9/50\n",
      "116/116 [==============================] - 87s 749ms/step - loss: 0.1017 - accuracy: 0.9626 - val_loss: 0.7830 - val_accuracy: 0.6250\n",
      "Epoch 10/50\n",
      "116/116 [==============================] - 88s 760ms/step - loss: 0.1026 - accuracy: 0.9611 - val_loss: 0.4233 - val_accuracy: 0.8125\n",
      "Epoch 11/50\n",
      "116/116 [==============================] - 87s 747ms/step - loss: 0.1060 - accuracy: 0.9590 - val_loss: 0.4958 - val_accuracy: 0.7500\n",
      "Epoch 12/50\n",
      "116/116 [==============================] - 84s 725ms/step - loss: 0.0940 - accuracy: 0.9630 - val_loss: 0.2337 - val_accuracy: 0.9375\n",
      "Epoch 13/50\n",
      "116/116 [==============================] - 87s 751ms/step - loss: 0.0965 - accuracy: 0.9657 - val_loss: 0.3693 - val_accuracy: 0.8750\n",
      "Epoch 14/50\n",
      "116/116 [==============================] - 89s 766ms/step - loss: 0.0930 - accuracy: 0.9641 - val_loss: 0.4353 - val_accuracy: 0.8125\n",
      "Epoch 15/50\n",
      "116/116 [==============================] - 87s 749ms/step - loss: 0.1024 - accuracy: 0.9574 - val_loss: 0.2714 - val_accuracy: 0.8750\n",
      "Epoch 16/50\n",
      "116/116 [==============================] - 88s 760ms/step - loss: 0.1042 - accuracy: 0.9594 - val_loss: 0.3869 - val_accuracy: 0.8125\n",
      "Epoch 17/50\n",
      "116/116 [==============================] - 89s 765ms/step - loss: 0.0889 - accuracy: 0.9680 - val_loss: 0.6786 - val_accuracy: 0.7500\n",
      "Epoch 18/50\n",
      "116/116 [==============================] - 84s 725ms/step - loss: 0.0771 - accuracy: 0.9716 - val_loss: 0.2842 - val_accuracy: 0.8750\n",
      "Epoch 19/50\n",
      "116/116 [==============================] - 100s 864ms/step - loss: 0.0741 - accuracy: 0.9726 - val_loss: 0.1751 - val_accuracy: 0.9375\n",
      "Epoch 20/50\n",
      "116/116 [==============================] - 93s 801ms/step - loss: 0.0773 - accuracy: 0.9689 - val_loss: 0.3054 - val_accuracy: 0.8125\n",
      "Epoch 21/50\n",
      "116/116 [==============================] - 109s 939ms/step - loss: 0.0664 - accuracy: 0.9739 - val_loss: 0.1097 - val_accuracy: 0.9375\n",
      "Epoch 22/50\n",
      "116/116 [==============================] - 107s 921ms/step - loss: 0.0724 - accuracy: 0.9749 - val_loss: 1.1907 - val_accuracy: 0.5625\n",
      "Epoch 23/50\n",
      "116/116 [==============================] - 96s 823ms/step - loss: 0.0741 - accuracy: 0.9728 - val_loss: 0.2228 - val_accuracy: 0.8750\n",
      "Epoch 24/50\n",
      "116/116 [==============================] - 96s 826ms/step - loss: 0.0702 - accuracy: 0.9730 - val_loss: 0.2388 - val_accuracy: 0.8750\n",
      "Epoch 25/50\n",
      "116/116 [==============================] - 90s 777ms/step - loss: 0.0598 - accuracy: 0.9808 - val_loss: 0.6884 - val_accuracy: 0.7500\n",
      "Epoch 26/50\n",
      "116/116 [==============================] - 89s 765ms/step - loss: 0.0598 - accuracy: 0.9783 - val_loss: 0.7213 - val_accuracy: 0.7500\n",
      "Epoch 27/50\n",
      "116/116 [==============================] - 88s 760ms/step - loss: 0.0603 - accuracy: 0.9770 - val_loss: 0.2127 - val_accuracy: 0.8750\n",
      "Epoch 28/50\n",
      "116/116 [==============================] - 89s 770ms/step - loss: 0.0615 - accuracy: 0.9778 - val_loss: 0.1011 - val_accuracy: 1.0000\n",
      "Epoch 29/50\n",
      "116/116 [==============================] - 89s 766ms/step - loss: 0.0577 - accuracy: 0.9785 - val_loss: 0.3853 - val_accuracy: 0.8125\n",
      "Epoch 30/50\n",
      "116/116 [==============================] - 89s 769ms/step - loss: 0.0542 - accuracy: 0.9812 - val_loss: 0.8885 - val_accuracy: 0.7500\n",
      "Epoch 31/50\n",
      "116/116 [==============================] - 89s 768ms/step - loss: 0.0562 - accuracy: 0.9774 - val_loss: 0.5334 - val_accuracy: 0.7500\n",
      "Epoch 32/50\n",
      "116/116 [==============================] - 119s 1s/step - loss: 0.0478 - accuracy: 0.9833 - val_loss: 0.2414 - val_accuracy: 0.8125\n",
      "Epoch 33/50\n",
      "116/116 [==============================] - 131s 1s/step - loss: 0.0567 - accuracy: 0.9810 - val_loss: 0.7124 - val_accuracy: 0.7500\n",
      "Epoch 34/50\n",
      "116/116 [==============================] - 101s 868ms/step - loss: 0.0469 - accuracy: 0.9818 - val_loss: 0.1529 - val_accuracy: 0.8125\n",
      "Epoch 35/50\n",
      "116/116 [==============================] - 85s 731ms/step - loss: 0.0411 - accuracy: 0.9849 - val_loss: 0.1213 - val_accuracy: 0.9375\n",
      "Epoch 36/50\n",
      "116/116 [==============================] - 88s 755ms/step - loss: 0.0457 - accuracy: 0.9829 - val_loss: 0.6601 - val_accuracy: 0.7500\n",
      "Epoch 37/50\n",
      "116/116 [==============================] - 113s 970ms/step - loss: 0.0518 - accuracy: 0.9787 - val_loss: 0.2816 - val_accuracy: 0.8125\n",
      "Epoch 38/50\n",
      "116/116 [==============================] - 114s 975ms/step - loss: 0.0599 - accuracy: 0.9768 - val_loss: 0.4699 - val_accuracy: 0.8125\n",
      "Epoch 39/50\n",
      "116/116 [==============================] - 87s 749ms/step - loss: 0.0392 - accuracy: 0.9860 - val_loss: 0.1087 - val_accuracy: 0.9375\n",
      "Epoch 40/50\n",
      "116/116 [==============================] - 85s 736ms/step - loss: 0.0319 - accuracy: 0.9889 - val_loss: 0.0993 - val_accuracy: 0.9375\n",
      "Epoch 41/50\n",
      "116/116 [==============================] - 88s 755ms/step - loss: 0.0350 - accuracy: 0.9879 - val_loss: 0.0529 - val_accuracy: 1.0000\n",
      "Epoch 42/50\n",
      "116/116 [==============================] - 90s 775ms/step - loss: 0.0386 - accuracy: 0.9860 - val_loss: 0.1235 - val_accuracy: 0.9375\n",
      "Epoch 43/50\n",
      "116/116 [==============================] - 91s 786ms/step - loss: 0.0268 - accuracy: 0.9908 - val_loss: 0.2833 - val_accuracy: 0.8125\n",
      "Epoch 44/50\n",
      "116/116 [==============================] - 87s 751ms/step - loss: 0.0299 - accuracy: 0.9912 - val_loss: 0.2116 - val_accuracy: 0.8750\n",
      "Epoch 45/50\n",
      "116/116 [==============================] - 88s 757ms/step - loss: 0.0228 - accuracy: 0.9939 - val_loss: 0.1793 - val_accuracy: 0.8750\n",
      "Epoch 46/50\n",
      "116/116 [==============================] - 90s 775ms/step - loss: 0.0402 - accuracy: 0.9849 - val_loss: 0.7190 - val_accuracy: 0.8125\n",
      "Epoch 47/50\n",
      "116/116 [==============================] - 89s 761ms/step - loss: 0.0506 - accuracy: 0.9808 - val_loss: 0.2033 - val_accuracy: 0.9375\n",
      "Epoch 48/50\n",
      "116/116 [==============================] - 92s 793ms/step - loss: 0.0355 - accuracy: 0.9873 - val_loss: 0.2818 - val_accuracy: 0.8750\n",
      "Epoch 49/50\n",
      "116/116 [==============================] - 87s 747ms/step - loss: 0.0463 - accuracy: 0.9795 - val_loss: 0.8261 - val_accuracy: 0.7500\n",
      "Epoch 50/50\n",
      "116/116 [==============================] - 95s 821ms/step - loss: 0.0260 - accuracy: 0.9925 - val_loss: 0.1530 - val_accuracy: 0.8750\n"
     ]
    }
   ],
   "source": [
    "epochs=50\n",
    "model_fit = model.fit(train_data,validation_data=val_data, epochs=epochs, batch_size=BATCH_SIZE )"
   ]
  },
  {
   "cell_type": "code",
   "execution_count": 28,
   "id": "04e1facf",
   "metadata": {},
   "outputs": [
    {
     "name": "stdout",
     "output_type": "stream",
     "text": [
      "dict_keys(['loss', 'accuracy', 'val_loss', 'val_accuracy'])\n"
     ]
    },
    {
     "data": {
      "image/png": "[encoded data removed]",
      "text/plain": [
       "<Figure size 432x288 with 1 Axes>"
      ]
     },
     "metadata": {
      "needs_background": "light"
     },
     "output_type": "display_data"
    },
    {
     "data": {
      "image/png": "[encoded data removed]",
      "text/plain": [
       "<Figure size 432x288 with 1 Axes>"
      ]
     },
     "metadata": {
      "needs_background": "light"
     },
     "output_type": "display_data"
    }
   ],
   "source": [
    "print(model_fit.history.keys())\n",
    "plt.plot(model_fit.history['accuracy'])\n",
    "plt.plot(model_fit.history['val_accuracy'])\n",
    "plt.title('model accuracy')\n",
    "plt.ylabel('accuracy')\n",
    "plt.xlabel('epoch')\n",
    "plt.legend(['train', 'Val'], loc='upper left')\n",
    "plt.show()\n",
    "# summarize history for loss\n",
    "plt.plot(model_fit.history['loss'])\n",
    "plt.plot(model_fit.history['val_loss'])\n",
    "plt.title('model loss')\n",
    "plt.ylabel('loss')\n",
    "plt.xlabel('epoch')\n",
    "plt.legend(['train', 'Val'], loc='upper left')\n",
    "plt.show()"
   ]
  },
  {
   "cell_type": "markdown",
   "id": "004b21ca",
   "metadata": {},
   "source": [
    "SECTION NUMBER C"
   ]
  },
  {
   "cell_type": "code",
   "execution_count": 29,
   "id": "c3326f53",
   "metadata": {},
   "outputs": [],
   "source": [
    "predictions_DNN = model.predict(test_data) \n",
    "y_pred_Adam = predictions_DNN > 0.4\n",
    "y_true_Adam = test_data.classes"
   ]
  },
  {
   "cell_type": "code",
   "execution_count": 30,
   "id": "a2b88aea",
   "metadata": {},
   "outputs": [
    {
     "data": {
      "image/png": "[encoded data removed]",
      "text/plain": [
       "<Figure size 432x288 with 2 Axes>"
      ]
     },
     "metadata": {
      "needs_background": "light"
     },
     "output_type": "display_data"
    }
   ],
   "source": [
    "import seaborn as sns\n",
    "\n",
    "font = {\n",
    "    'family': 'Times New Roman',\n",
    "    'size': 12\n",
    "}\n",
    "plt.rc('font', **font)\n",
    "mat = confusion_matrix(y_true_Adam, y_pred_Adam)\n",
    "sns.heatmap(mat, annot=True, fmt=\"d\")\n",
    "\n",
    "plt.xlabel(\"Predicted Label\", fontsize= 12)\n",
    "plt.ylabel(\"True Label\", fontsize= 12)\n",
    "\n",
    "plt.show()\n"
   ]
  },
  {
   "cell_type": "code",
   "execution_count": 31,
   "id": "408a9871",
   "metadata": {},
   "outputs": [
    {
     "name": "stdout",
     "output_type": "stream",
     "text": [
      " The recall of model is: 0.823076923076923\n",
      "The precision of the model is: 0.620889748549323\n"
     ]
    }
   ],
   "source": [
    "import sklearn.metrics\n",
    "\n",
    "#Recall = TruePositives / (TruePositives + FalseNegatives)\n",
    "#precision = TruePositives/(TruePositives+FalsePositives)\n",
    "\n",
    "recall = sklearn.metrics.recall_score(y_true_Adam, y_pred_Adam, pos_label=1)\n",
    "print(\" The recall of model is:\" ,recall)\n",
    "\n",
    "precision = sklearn.metrics.precision_score(y_true_Adam, y_pred_Adam, pos_label=1)\n",
    "print(\"The precision of the model is:\" ,precision)"
   ]
  },
  {
   "cell_type": "markdown",
   "id": "cc018993",
   "metadata": {},
   "source": [
    "SECTION NUMBER D"
   ]
  },
  {
   "cell_type": "code",
   "execution_count": 32,
   "id": "835e1fa9",
   "metadata": {},
   "outputs": [],
   "source": [
    "# defining a convolution model \n",
    "tf.keras.backend.clear_session()"
   ]
  },
  {
   "cell_type": "code",
   "execution_count": 33,
   "id": "9c0a1259",
   "metadata": {},
   "outputs": [
    {
     "name": "stdout",
     "output_type": "stream",
     "text": [
      "Model: \"sequential\"\n",
      "_________________________________________________________________\n",
      " Layer (type)                Output Shape              Param #   \n",
      "=================================================================\n",
      " conv2d (Conv2D)             (None, 224, 224, 32)      320       \n",
      "                                                                 \n",
      " max_pooling2d (MaxPooling2D  (None, 112, 112, 32)     0         \n",
      " )                                                               \n",
      "                                                                 \n",
      " conv2d_1 (Conv2D)           (None, 112, 112, 64)      18496     \n",
      "                                                                 \n",
      " max_pooling2d_1 (MaxPooling  (None, 56, 56, 64)       0         \n",
      " 2D)                                                             \n",
      "                                                                 \n",
      " flatten (Flatten)           (None, 200704)            0         \n",
      "                                                                 \n",
      " dropout (Dropout)           (None, 200704)            0         \n",
      "                                                                 \n",
      " dense (Dense)               (None, 1)                 200705    \n",
      "                                                                 \n",
      "=================================================================\n",
      "Total params: 219,521\n",
      "Trainable params: 219,521\n",
      "Non-trainable params: 0\n",
      "_________________________________________________________________\n"
     ]
    }
   ],
   "source": [
    "num_classes = 1\n",
    "input_shape = (224, 224, 1)\n",
    "epochs = 50\n",
    "\n",
    "model2 = keras.Sequential(\n",
    "    [\n",
    "        keras.Input(shape=input_shape),\n",
    "        layers.Conv2D(32, kernel_size=(3, 3), activation=\"relu\", padding = \"same\"),\n",
    "        layers.MaxPooling2D(pool_size=(2, 2)),\n",
    "        layers.Conv2D(64, kernel_size=(3, 3), activation=\"relu\" ,padding = \"same\"),\n",
    "        layers.MaxPooling2D(pool_size=(2, 2)),\n",
    "        layers.Flatten(),\n",
    "        layers.Dropout(0.5),\n",
    "        layers.Dense(num_classes, activation=\"sigmoid\"),\n",
    "    ]\n",
    ")\n",
    "\n",
    "model2.summary()\n"
   ]
  },
  {
   "cell_type": "code",
   "execution_count": 34,
   "id": "03aa5c7b",
   "metadata": {},
   "outputs": [
    {
     "name": "stdout",
     "output_type": "stream",
     "text": [
      "Epoch 1/50\n",
      "116/116 [==============================] - 743s 6s/step - loss: 0.5801 - accuracy: 0.7421 - val_loss: 0.8338 - val_accuracy: 0.5000\n",
      "Epoch 2/50\n",
      "116/116 [==============================] - 762s 7s/step - loss: 0.5493 - accuracy: 0.7429 - val_loss: 0.7823 - val_accuracy: 0.5000\n",
      "Epoch 3/50\n",
      "116/116 [==============================] - 701s 6s/step - loss: 0.5237 - accuracy: 0.7429 - val_loss: 0.7627 - val_accuracy: 0.5000\n",
      "Epoch 4/50\n",
      "116/116 [==============================] - 589s 5s/step - loss: 0.4925 - accuracy: 0.7429 - val_loss: 0.7372 - val_accuracy: 0.5000\n",
      "Epoch 5/50\n",
      "116/116 [==============================] - 601s 5s/step - loss: 0.4597 - accuracy: 0.7465 - val_loss: 0.7126 - val_accuracy: 0.5625\n",
      "Epoch 6/50\n",
      "116/116 [==============================] - 715s 6s/step - loss: 0.4254 - accuracy: 0.7765 - val_loss: 0.6701 - val_accuracy: 0.5625\n",
      "Epoch 7/50\n",
      "116/116 [==============================] - 1968s 17s/step - loss: 0.3930 - accuracy: 0.8230 - val_loss: 0.6543 - val_accuracy: 0.6250\n",
      "Epoch 8/50\n",
      "116/116 [==============================] - 732s 6s/step - loss: 0.3634 - accuracy: 0.8560 - val_loss: 0.6809 - val_accuracy: 0.6250\n",
      "Epoch 9/50\n",
      "116/116 [==============================] - 768s 7s/step - loss: 0.3359 - accuracy: 0.8731 - val_loss: 0.6394 - val_accuracy: 0.6250\n",
      "Epoch 10/50\n",
      "116/116 [==============================] - 710s 6s/step - loss: 0.3114 - accuracy: 0.8938 - val_loss: 0.5946 - val_accuracy: 0.6875\n",
      "Epoch 11/50\n",
      "116/116 [==============================] - 703s 6s/step - loss: 0.2909 - accuracy: 0.9015 - val_loss: 0.6708 - val_accuracy: 0.6250\n",
      "Epoch 12/50\n",
      "116/116 [==============================] - 615s 5s/step - loss: 0.2748 - accuracy: 0.9057 - val_loss: 0.5971 - val_accuracy: 0.6875\n",
      "Epoch 13/50\n",
      "116/116 [==============================] - 730s 6s/step - loss: 0.2573 - accuracy: 0.9126 - val_loss: 0.6288 - val_accuracy: 0.6875\n",
      "Epoch 14/50\n",
      "116/116 [==============================] - 731s 6s/step - loss: 0.2434 - accuracy: 0.9197 - val_loss: 0.6571 - val_accuracy: 0.6875\n",
      "Epoch 15/50\n",
      "116/116 [==============================] - 683s 6s/step - loss: 0.2313 - accuracy: 0.9218 - val_loss: 0.6156 - val_accuracy: 0.6875\n",
      "Epoch 16/50\n",
      "116/116 [==============================] - 576s 5s/step - loss: 0.2216 - accuracy: 0.9268 - val_loss: 0.6266 - val_accuracy: 0.6875\n",
      "Epoch 17/50\n",
      "116/116 [==============================] - 572s 5s/step - loss: 0.2115 - accuracy: 0.9275 - val_loss: 0.5692 - val_accuracy: 0.6875\n",
      "Epoch 18/50\n",
      "116/116 [==============================] - 579s 5s/step - loss: 0.2013 - accuracy: 0.9323 - val_loss: 0.5333 - val_accuracy: 0.6875\n",
      "Epoch 19/50\n",
      "116/116 [==============================] - 585s 5s/step - loss: 0.1946 - accuracy: 0.9316 - val_loss: 0.5466 - val_accuracy: 0.6875\n",
      "Epoch 20/50\n",
      "116/116 [==============================] - 574s 5s/step - loss: 0.1857 - accuracy: 0.9358 - val_loss: 0.6140 - val_accuracy: 0.6875\n",
      "Epoch 21/50\n",
      "116/116 [==============================] - 578s 5s/step - loss: 0.1803 - accuracy: 0.9371 - val_loss: 0.6074 - val_accuracy: 0.6875\n",
      "Epoch 22/50\n",
      "116/116 [==============================] - 575s 5s/step - loss: 0.1729 - accuracy: 0.9373 - val_loss: 0.6296 - val_accuracy: 0.6875\n",
      "Epoch 23/50\n",
      "116/116 [==============================] - 578s 5s/step - loss: 0.1698 - accuracy: 0.9398 - val_loss: 0.5515 - val_accuracy: 0.6875\n",
      "Epoch 24/50\n",
      "116/116 [==============================] - 581s 5s/step - loss: 0.1611 - accuracy: 0.9446 - val_loss: 0.5303 - val_accuracy: 0.6875\n",
      "Epoch 25/50\n",
      "116/116 [==============================] - 590s 5s/step - loss: 0.1571 - accuracy: 0.9469 - val_loss: 0.5789 - val_accuracy: 0.6875\n",
      "Epoch 26/50\n",
      "116/116 [==============================] - 582s 5s/step - loss: 0.1534 - accuracy: 0.9465 - val_loss: 0.5193 - val_accuracy: 0.6875\n",
      "Epoch 27/50\n",
      "116/116 [==============================] - 577s 5s/step - loss: 0.1501 - accuracy: 0.9467 - val_loss: 0.5018 - val_accuracy: 0.6875\n",
      "Epoch 28/50\n",
      "116/116 [==============================] - 585s 5s/step - loss: 0.1449 - accuracy: 0.9488 - val_loss: 0.5452 - val_accuracy: 0.6875\n",
      "Epoch 29/50\n",
      "116/116 [==============================] - 608s 5s/step - loss: 0.1405 - accuracy: 0.9513 - val_loss: 0.4539 - val_accuracy: 0.6875\n",
      "Epoch 30/50\n",
      "116/116 [==============================] - 581s 5s/step - loss: 0.1399 - accuracy: 0.9498 - val_loss: 0.5500 - val_accuracy: 0.6875\n",
      "Epoch 31/50\n",
      "116/116 [==============================] - 592s 5s/step - loss: 0.1344 - accuracy: 0.9515 - val_loss: 0.5473 - val_accuracy: 0.6875\n",
      "Epoch 32/50\n",
      "116/116 [==============================] - 577s 5s/step - loss: 0.1337 - accuracy: 0.9525 - val_loss: 0.6165 - val_accuracy: 0.6875\n",
      "Epoch 33/50\n",
      "116/116 [==============================] - 578s 5s/step - loss: 0.1285 - accuracy: 0.9540 - val_loss: 0.4749 - val_accuracy: 0.6875\n",
      "Epoch 34/50\n",
      "116/116 [==============================] - 578s 5s/step - loss: 0.1263 - accuracy: 0.9557 - val_loss: 0.5131 - val_accuracy: 0.6875\n",
      "Epoch 35/50\n",
      "116/116 [==============================] - 580s 5s/step - loss: 0.1238 - accuracy: 0.9586 - val_loss: 0.4294 - val_accuracy: 0.6875\n",
      "Epoch 36/50\n",
      "116/116 [==============================] - 582s 5s/step - loss: 0.1214 - accuracy: 0.9565 - val_loss: 0.5323 - val_accuracy: 0.6875\n",
      "Epoch 37/50\n",
      "116/116 [==============================] - 581s 5s/step - loss: 0.1184 - accuracy: 0.9586 - val_loss: 0.5043 - val_accuracy: 0.6875\n",
      "Epoch 38/50\n",
      "116/116 [==============================] - 590s 5s/step - loss: 0.1146 - accuracy: 0.9618 - val_loss: 0.4434 - val_accuracy: 0.6875\n",
      "Epoch 39/50\n",
      "116/116 [==============================] - 578s 5s/step - loss: 0.1154 - accuracy: 0.9590 - val_loss: 0.4427 - val_accuracy: 0.6875\n",
      "Epoch 40/50\n",
      "116/116 [==============================] - 578s 5s/step - loss: 0.1115 - accuracy: 0.9620 - val_loss: 0.4265 - val_accuracy: 0.6875\n",
      "Epoch 41/50\n",
      "116/116 [==============================] - 579s 5s/step - loss: 0.1098 - accuracy: 0.9632 - val_loss: 0.4837 - val_accuracy: 0.6875\n",
      "Epoch 42/50\n",
      "116/116 [==============================] - 580s 5s/step - loss: 0.1078 - accuracy: 0.9645 - val_loss: 0.5465 - val_accuracy: 0.6875\n",
      "Epoch 43/50\n",
      "116/116 [==============================] - 583s 5s/step - loss: 0.1066 - accuracy: 0.9615 - val_loss: 0.5358 - val_accuracy: 0.6875\n",
      "Epoch 44/50\n",
      "116/116 [==============================] - 587s 5s/step - loss: 0.1057 - accuracy: 0.9647 - val_loss: 0.4365 - val_accuracy: 0.6875\n",
      "Epoch 45/50\n",
      "116/116 [==============================] - 595s 5s/step - loss: 0.1037 - accuracy: 0.9653 - val_loss: 0.4574 - val_accuracy: 0.6875\n",
      "Epoch 46/50\n",
      "116/116 [==============================] - 583s 5s/step - loss: 0.1014 - accuracy: 0.9670 - val_loss: 0.4057 - val_accuracy: 0.6875\n",
      "Epoch 47/50\n",
      "116/116 [==============================] - 580s 5s/step - loss: 0.1011 - accuracy: 0.9653 - val_loss: 0.4377 - val_accuracy: 0.6875\n",
      "Epoch 48/50\n",
      "116/116 [==============================] - 583s 5s/step - loss: 0.0980 - accuracy: 0.9653 - val_loss: 0.4773 - val_accuracy: 0.6875\n",
      "Epoch 49/50\n",
      "116/116 [==============================] - 584s 5s/step - loss: 0.0986 - accuracy: 0.9670 - val_loss: 0.3962 - val_accuracy: 0.6875\n",
      "Epoch 50/50\n",
      "116/116 [==============================] - 591s 5s/step - loss: 0.0967 - accuracy: 0.9676 - val_loss: 0.4655 - val_accuracy: 0.6875\n"
     ]
    }
   ],
   "source": [
    "model2.compile(loss='binary_crossentropy', optimizer = Adam(learning_rate=5e-6), metrics=['accuracy'])\n",
    "\n",
    "history_CNN = model2.fit(train_data,validation_data = val_data, epochs = epochs ,batch_size = BATCH_SIZE)"
   ]
  },
  {
   "cell_type": "markdown",
   "id": "c970cfa7",
   "metadata": {},
   "source": [
    "SECTION NUMBER D - SECTION B"
   ]
  },
  {
   "cell_type": "code",
   "execution_count": 35,
   "id": "985201d0",
   "metadata": {
    "scrolled": true
   },
   "outputs": [
    {
     "name": "stdout",
     "output_type": "stream",
     "text": [
      "dict_keys(['loss', 'accuracy', 'val_loss', 'val_accuracy'])\n"
     ]
    },
    {
     "data": {
      "image/png": "[encoded data removed]",
      "text/plain": [
       "<Figure size 432x288 with 1 Axes>"
      ]
     },
     "metadata": {
      "needs_background": "light"
     },
     "output_type": "display_data"
    },
    {
     "data": {
      "image/png": "[encoded data removed]",
      "text/plain": [
       "<Figure size 432x288 with 1 Axes>"
      ]
     },
     "metadata": {
      "needs_background": "light"
     },
     "output_type": "display_data"
    }
   ],
   "source": [
    "print(history_CNN.history.keys())\n",
    "plt.plot(history_CNN.history['accuracy'])\n",
    "plt.plot(history_CNN.history['val_accuracy'])\n",
    "plt.title('model accuracy')\n",
    "plt.ylabel('accuracy')\n",
    "plt.xlabel('epoch')\n",
    "plt.legend(['train', 'Val'], loc='upper left')\n",
    "plt.show()\n",
    "\n",
    "\n",
    "# summarize history for loss\n",
    "\n",
    "plt.plot(history_CNN.history['loss'])\n",
    "plt.plot(history_CNN.history['val_loss'])\n",
    "plt.title('model loss')\n",
    "plt.ylabel('loss')\n",
    "plt.xlabel('epoch')\n",
    "plt.legend(['train', 'Val'], loc='upper left')\n",
    "plt.show()"
   ]
  },
  {
   "cell_type": "code",
   "execution_count": 36,
   "id": "1548f394",
   "metadata": {},
   "outputs": [
    {
     "data": {
      "image/png": "[encoded data removed]",
      "text/plain": [
       "<Figure size 432x288 with 2 Axes>"
      ]
     },
     "metadata": {
      "needs_background": "light"
     },
     "output_type": "display_data"
    }
   ],
   "source": [
    "predictions_CNN = model2.predict(test_data) \n",
    "y_pred = predictions_CNN > 0.4\n",
    "y_true = test_data.classes \n",
    "\n",
    "import seaborn as sns\n",
    "\n",
    "font = {\n",
    "    'family': 'Times New Roman',\n",
    "    'size': 12\n",
    "}\n",
    "plt.rc('font', **font)\n",
    "mat = confusion_matrix(y_true, y_pred)\n",
    "sns.heatmap(mat, annot=True, fmt=\"d\")\n",
    "\n",
    "plt.xlabel(\"Predicted Label\", fontsize= 12)\n",
    "plt.ylabel(\"True Label\", fontsize= 12)\n",
    "\n",
    "plt.show()"
   ]
  },
  {
   "cell_type": "code",
   "execution_count": 37,
   "id": "25b978f7",
   "metadata": {},
   "outputs": [
    {
     "name": "stdout",
     "output_type": "stream",
     "text": [
      " The recall of model is: 0.8512820512820513\n",
      "The precision of the model is: 0.6159554730983302\n"
     ]
    }
   ],
   "source": [
    "import sklearn.metrics\n",
    "\n",
    "#Recall = TruePositives / (TruePositives + FalseNegatives)\n",
    "#precision = TruePositives/(TruePositives+FalsePositives)\n",
    "\n",
    "recall = sklearn.metrics.recall_score(y_true, y_pred, pos_label=1)\n",
    "print(\" The recall of model is:\" ,recall)\n",
    "\n",
    "precision = sklearn.metrics.precision_score(y_true, y_pred, pos_label=1)\n",
    "print(\"The precision of the model is:\" ,precision)"
   ]
  },
  {
   "cell_type": "markdown",
   "id": "8762d318",
   "metadata": {},
   "source": [
    "SECTION NUMBER E"
   ]
  },
  {
   "cell_type": "code",
   "execution_count": 38,
   "id": "f4dfd772",
   "metadata": {},
   "outputs": [],
   "source": [
    "tf.keras.backend.clear_session()"
   ]
  },
  {
   "cell_type": "code",
   "execution_count": 39,
   "id": "dbc40e4e",
   "metadata": {},
   "outputs": [
    {
     "name": "stdout",
     "output_type": "stream",
     "text": [
      "Model: \"sequential\"\n",
      "_________________________________________________________________\n",
      " Layer (type)                Output Shape              Param #   \n",
      "=================================================================\n",
      " conv2d (Conv2D)             (None, 224, 224, 32)      320       \n",
      "                                                                 \n",
      " max_pooling2d (MaxPooling2D  (None, 112, 112, 32)     0         \n",
      " )                                                               \n",
      "                                                                 \n",
      " conv2d_1 (Conv2D)           (None, 112, 112, 64)      18496     \n",
      "                                                                 \n",
      " max_pooling2d_1 (MaxPooling  (None, 56, 56, 64)       0         \n",
      " 2D)                                                             \n",
      "                                                                 \n",
      " flatten (Flatten)           (None, 200704)            0         \n",
      "                                                                 \n",
      " dense (Dense)               (None, 1)                 200705    \n",
      "                                                                 \n",
      "=================================================================\n",
      "Total params: 219,521\n",
      "Trainable params: 219,521\n",
      "Non-trainable params: 0\n",
      "_________________________________________________________________\n"
     ]
    }
   ],
   "source": [
    "num_classes = 1\n",
    "input_shape = (224, 224, 1)\n",
    "epochs = 25\n",
    "\n",
    "model3 = keras.Sequential(\n",
    "    [\n",
    "        keras.Input(shape=input_shape),\n",
    "        layers.Conv2D(32, kernel_size=(3, 3), activation=\"relu\", padding = \"same\"),\n",
    "        layers.MaxPooling2D(pool_size=(2, 2)),\n",
    "        layers.Conv2D(64, kernel_size=(3, 3), activation=\"relu\" ,padding = \"same\"),\n",
    "        layers.MaxPooling2D(pool_size=(2, 2)),\n",
    "        layers.Flatten(),\n",
    "        layers.Dense(num_classes, activation=\"sigmoid\"),\n",
    "    ]\n",
    ")\n",
    "\n",
    "model3.summary()\n"
   ]
  },
  {
   "cell_type": "code",
   "execution_count": 40,
   "id": "35bb1863",
   "metadata": {},
   "outputs": [
    {
     "name": "stdout",
     "output_type": "stream",
     "text": [
      "Epoch 1/25\n",
      "116/116 [==============================] - 712s 6s/step - loss: 0.2764 - accuracy: 0.8754 - val_loss: 0.6415 - val_accuracy: 0.6875\n",
      "Epoch 2/25\n",
      "116/116 [==============================] - 678s 6s/step - loss: 0.0906 - accuracy: 0.9657 - val_loss: 0.3195 - val_accuracy: 0.8125\n",
      "Epoch 3/25\n",
      "116/116 [==============================] - 620s 5s/step - loss: 0.0886 - accuracy: 0.9666 - val_loss: 0.1788 - val_accuracy: 0.9375\n",
      "Epoch 4/25\n",
      "116/116 [==============================] - 577s 5s/step - loss: 0.0662 - accuracy: 0.9737 - val_loss: 0.0754 - val_accuracy: 1.0000\n",
      "Epoch 5/25\n",
      "116/116 [==============================] - 684s 6s/step - loss: 0.0592 - accuracy: 0.9783 - val_loss: 0.0609 - val_accuracy: 1.0000\n",
      "Epoch 6/25\n",
      "116/116 [==============================] - 641s 6s/step - loss: 0.0492 - accuracy: 0.9826 - val_loss: 0.1826 - val_accuracy: 0.9375\n",
      "Epoch 7/25\n",
      "116/116 [==============================] - 554s 5s/step - loss: 0.0404 - accuracy: 0.9870 - val_loss: 0.2516 - val_accuracy: 0.8125\n",
      "Epoch 8/25\n",
      "116/116 [==============================] - 595s 5s/step - loss: 0.0357 - accuracy: 0.9870 - val_loss: 0.0637 - val_accuracy: 1.0000\n",
      "Epoch 9/25\n",
      "116/116 [==============================] - 692s 6s/step - loss: 0.0302 - accuracy: 0.9893 - val_loss: 0.1529 - val_accuracy: 0.9375\n",
      "Epoch 10/25\n",
      "116/116 [==============================] - 705s 6s/step - loss: 0.0209 - accuracy: 0.9935 - val_loss: 0.1669 - val_accuracy: 0.9375\n",
      "Epoch 11/25\n",
      "116/116 [==============================] - 692s 6s/step - loss: 0.0202 - accuracy: 0.9933 - val_loss: 0.0784 - val_accuracy: 1.0000\n",
      "Epoch 12/25\n",
      "116/116 [==============================] - 657s 6s/step - loss: 0.0184 - accuracy: 0.9946 - val_loss: 0.3604 - val_accuracy: 0.7500\n",
      "Epoch 13/25\n",
      "116/116 [==============================] - 687s 6s/step - loss: 0.0146 - accuracy: 0.9960 - val_loss: 0.1676 - val_accuracy: 0.9375\n",
      "Epoch 14/25\n",
      "116/116 [==============================] - 766s 6s/step - loss: 0.0100 - accuracy: 0.9975 - val_loss: 0.0716 - val_accuracy: 1.0000\n",
      "Epoch 15/25\n",
      "116/116 [==============================] - 628s 5s/step - loss: 0.0068 - accuracy: 0.9992 - val_loss: 0.1788 - val_accuracy: 0.8750\n",
      "Epoch 16/25\n",
      "116/116 [==============================] - 691s 6s/step - loss: 0.0057 - accuracy: 0.9992 - val_loss: 0.0286 - val_accuracy: 1.0000\n",
      "Epoch 17/25\n",
      "116/116 [==============================] - 710s 6s/step - loss: 0.0044 - accuracy: 0.9998 - val_loss: 0.0325 - val_accuracy: 1.0000\n",
      "Epoch 18/25\n",
      "116/116 [==============================] - 742s 6s/step - loss: 0.0048 - accuracy: 0.9994 - val_loss: 0.2475 - val_accuracy: 0.8750\n",
      "Epoch 19/25\n",
      "116/116 [==============================] - 689s 6s/step - loss: 0.0040 - accuracy: 0.9992 - val_loss: 0.2334 - val_accuracy: 0.8750\n",
      "Epoch 20/25\n",
      "116/116 [==============================] - 619s 5s/step - loss: 0.0023 - accuracy: 1.0000 - val_loss: 0.1684 - val_accuracy: 0.9375\n",
      "Epoch 21/25\n",
      "116/116 [==============================] - 709s 6s/step - loss: 0.0013 - accuracy: 1.0000 - val_loss: 0.2595 - val_accuracy: 0.8125\n",
      "Epoch 22/25\n",
      "116/116 [==============================] - 763s 7s/step - loss: 0.0022 - accuracy: 1.0000 - val_loss: 0.0203 - val_accuracy: 1.0000\n",
      "Epoch 23/25\n",
      "116/116 [==============================] - 697s 6s/step - loss: 0.0013 - accuracy: 1.0000 - val_loss: 0.1477 - val_accuracy: 0.9375\n",
      "Epoch 24/25\n",
      "116/116 [==============================] - 681s 6s/step - loss: 0.0026 - accuracy: 0.9998 - val_loss: 0.2443 - val_accuracy: 0.9375\n",
      "Epoch 25/25\n",
      "116/116 [==============================] - 744s 6s/step - loss: 0.0010 - accuracy: 1.0000 - val_loss: 0.0928 - val_accuracy: 0.9375\n"
     ]
    }
   ],
   "source": [
    "model3.compile(loss='binary_crossentropy', optimizer = Adam(learning_rate=5e-4), metrics=['accuracy'])\n",
    "\n",
    "history_CNN = model3.fit(train_data,validation_data = val_data, epochs = epochs ,batch_size = BATCH_SIZE)"
   ]
  },
  {
   "cell_type": "code",
   "execution_count": 42,
   "id": "991f6957",
   "metadata": {},
   "outputs": [
    {
     "name": "stdout",
     "output_type": "stream",
     "text": [
      "dict_keys(['loss', 'accuracy', 'val_loss', 'val_accuracy'])\n"
     ]
    },
    {
     "data": {
      "image/png": "[encoded data removed]",
      "text/plain": [
       "<Figure size 432x288 with 1 Axes>"
      ]
     },
     "metadata": {
      "needs_background": "light"
     },
     "output_type": "display_data"
    },
    {
     "data": {
      "image/png": "[encoded data removed]",
      "text/plain": [
       "<Figure size 432x288 with 1 Axes>"
      ]
     },
     "metadata": {
      "needs_background": "light"
     },
     "output_type": "display_data"
    }
   ],
   "source": [
    "print(history_CNN.history.keys())\n",
    "plt.plot(history_CNN.history['accuracy'])\n",
    "plt.plot(history_CNN.history['val_accuracy'])\n",
    "plt.title('model accuracy')\n",
    "plt.ylabel('accuracy')\n",
    "plt.xlabel('epoch')\n",
    "plt.legend(['train', 'Val'], loc='upper left')\n",
    "plt.show()\n",
    "\n",
    "\n",
    "# summarize history for loss\n",
    "\n",
    "plt.plot(history_CNN.history['loss'])\n",
    "plt.plot(history_CNN.history['val_loss'])\n",
    "plt.title('model loss')\n",
    "plt.ylabel('loss')\n",
    "plt.xlabel('epoch')\n",
    "plt.legend(['train', 'Val'], loc='upper left')\n",
    "plt.show()"
   ]
  },
  {
   "cell_type": "code",
   "execution_count": 41,
   "id": "51867fcf",
   "metadata": {},
   "outputs": [
    {
     "data": {
      "image/png": "[encoded data removed]",
      "text/plain": [
       "<Figure size 432x288 with 2 Axes>"
      ]
     },
     "metadata": {
      "needs_background": "light"
     },
     "output_type": "display_data"
    }
   ],
   "source": [
    "predictions_CNN = model3.predict(test_data) \n",
    "y_pred = predictions_CNN > 0.4\n",
    "y_true = test_data.classes \n",
    "\n",
    "import seaborn as sns\n",
    "\n",
    "font = {\n",
    "    'family': 'Times New Roman',\n",
    "    'size': 12\n",
    "}\n",
    "plt.rc('font', **font)\n",
    "mat = confusion_matrix(y_true, y_pred)\n",
    "sns.heatmap(mat, annot=True, fmt=\"d\")\n",
    "\n",
    "plt.xlabel(\"Predicted Label\", fontsize= 12)\n",
    "plt.ylabel(\"True Label\", fontsize= 12)\n",
    "\n",
    "plt.show()"
   ]
  },
  {
   "cell_type": "code",
   "execution_count": 43,
   "id": "63b818d2",
   "metadata": {},
   "outputs": [
    {
     "name": "stdout",
     "output_type": "stream",
     "text": [
      " The recall of model is: 0.8846153846153846\n",
      "The precision of the model is: 0.6272727272727273\n"
     ]
    }
   ],
   "source": [
    "import sklearn.metrics\n",
    "\n",
    "#Recall = TruePositives / (TruePositives + FalseNegatives)\n",
    "#precision = TruePositives/(TruePositives+FalsePositives)\n",
    "\n",
    "recall = sklearn.metrics.recall_score(y_true, y_pred, pos_label=1)\n",
    "print(\" The recall of model is:\" ,recall)\n",
    "\n",
    "precision = sklearn.metrics.precision_score(y_true, y_pred, pos_label=1)\n",
    "print(\"The precision of the model is:\" ,precision)"
   ]
  },
  {
   "cell_type": "markdown",
   "id": "4a213889",
   "metadata": {},
   "source": [
    "SECTION NUMBER F"
   ]
  },
  {
   "cell_type": "code",
   "execution_count": 44,
   "id": "4430f07f",
   "metadata": {},
   "outputs": [],
   "source": [
    "Img_Size = 224\n",
    "\n",
    "resize_and_rescale = tf.keras.Sequential([\n",
    "  layers.Resizing(Img_Size, Img_Size),\n",
    "  layers.Rescaling(1./255)\n",
    "])"
   ]
  },
  {
   "cell_type": "code",
   "execution_count": 46,
   "id": "2934f755",
   "metadata": {},
   "outputs": [],
   "source": [
    "data_augmentation = keras.Sequential(\n",
    "  [\n",
    "    layers.experimental.preprocessing.RandomFlip(\"horizontal\", \n",
    "                                                 input_shape=(224, \n",
    "                                                              224,\n",
    "                                                              1)),\n",
    "    layers.experimental.preprocessing.RandomRotation(0.2),\n",
    "    layers.experimental.preprocessing.RandomContrast(0.4),\n",
    "  ]\n",
    ")"
   ]
  },
  {
   "cell_type": "code",
   "execution_count": 47,
   "id": "40c34604",
   "metadata": {},
   "outputs": [
    {
     "name": "stdout",
     "output_type": "stream",
     "text": [
      "Epoch 1/20\n",
      "116/116 [==============================] - 503s 4s/step - loss: 0.7673 - accuracy: 0.3014 - val_loss: 0.6953 - val_accuracy: 0.5000\n",
      "Epoch 2/20\n",
      "116/116 [==============================] - 484s 4s/step - loss: 0.6440 - accuracy: 0.7155 - val_loss: 0.7289 - val_accuracy: 0.5000\n",
      "Epoch 3/20\n",
      "116/116 [==============================] - 514s 4s/step - loss: 0.6012 - accuracy: 0.7429 - val_loss: 0.7728 - val_accuracy: 0.5000\n",
      "Epoch 4/20\n",
      "116/116 [==============================] - 493s 4s/step - loss: 0.5921 - accuracy: 0.7429 - val_loss: 0.7992 - val_accuracy: 0.5000\n",
      "Epoch 5/20\n",
      "116/116 [==============================] - 540s 5s/step - loss: 0.5884 - accuracy: 0.7429 - val_loss: 0.8079 - val_accuracy: 0.5000\n",
      "Epoch 6/20\n",
      "116/116 [==============================] - 544s 5s/step - loss: 0.5869 - accuracy: 0.7429 - val_loss: 0.8098 - val_accuracy: 0.5000\n",
      "Epoch 7/20\n",
      "116/116 [==============================] - 523s 4s/step - loss: 0.5858 - accuracy: 0.7429 - val_loss: 0.8076 - val_accuracy: 0.5000\n",
      "Epoch 8/20\n",
      "116/116 [==============================] - 484s 4s/step - loss: 0.5839 - accuracy: 0.7429 - val_loss: 0.8087 - val_accuracy: 0.5000\n",
      "Epoch 9/20\n",
      "116/116 [==============================] - 482s 4s/step - loss: 0.5825 - accuracy: 0.7429 - val_loss: 0.8020 - val_accuracy: 0.5000\n",
      "Epoch 10/20\n",
      "116/116 [==============================] - 492s 4s/step - loss: 0.5807 - accuracy: 0.7429 - val_loss: 0.8043 - val_accuracy: 0.5000\n",
      "Epoch 11/20\n",
      "116/116 [==============================] - 498s 4s/step - loss: 0.5795 - accuracy: 0.7429 - val_loss: 0.8067 - val_accuracy: 0.5000\n",
      "Epoch 12/20\n",
      "116/116 [==============================] - 429s 4s/step - loss: 0.5762 - accuracy: 0.7429 - val_loss: 0.8019 - val_accuracy: 0.5000\n",
      "Epoch 13/20\n",
      "116/116 [==============================] - 393s 3s/step - loss: 0.5747 - accuracy: 0.7429 - val_loss: 0.7968 - val_accuracy: 0.5000\n",
      "Epoch 14/20\n",
      "116/116 [==============================] - 455s 4s/step - loss: 0.5730 - accuracy: 0.7429 - val_loss: 0.7965 - val_accuracy: 0.5000\n",
      "Epoch 15/20\n",
      "116/116 [==============================] - 503s 4s/step - loss: 0.5704 - accuracy: 0.7429 - val_loss: 0.7945 - val_accuracy: 0.5000\n",
      "Epoch 16/20\n",
      "116/116 [==============================] - 487s 4s/step - loss: 0.5688 - accuracy: 0.7429 - val_loss: 0.8027 - val_accuracy: 0.5000\n",
      "Epoch 17/20\n",
      "116/116 [==============================] - 455s 4s/step - loss: 0.5672 - accuracy: 0.7429 - val_loss: 0.7904 - val_accuracy: 0.5000\n",
      "Epoch 18/20\n",
      "116/116 [==============================] - 455s 4s/step - loss: 0.5651 - accuracy: 0.7429 - val_loss: 0.7910 - val_accuracy: 0.5000\n",
      "Epoch 19/20\n",
      "116/116 [==============================] - 459s 4s/step - loss: 0.5627 - accuracy: 0.7429 - val_loss: 0.7920 - val_accuracy: 0.5000\n",
      "Epoch 20/20\n",
      "116/116 [==============================] - 470s 4s/step - loss: 0.5607 - accuracy: 0.7429 - val_loss: 0.7948 - val_accuracy: 0.5000\n"
     ]
    }
   ],
   "source": [
    "num_classes = 2\n",
    "epochs = 20\n",
    "\n",
    "model4 = Sequential([\n",
    "  data_augmentation,\n",
    "  layers.Conv2D(16, 3, padding='same', activation='relu'),\n",
    "  layers.MaxPooling2D(),\n",
    "  layers.Conv2D(32, 3, padding='same', activation='relu'),\n",
    "  layers.MaxPooling2D(),\n",
    "  layers.Conv2D(64, 3, padding='same', activation='relu'),\n",
    "  layers.MaxPooling2D(),\n",
    "  layers.Dropout(0.4),\n",
    "  layers.Flatten(),\n",
    "  layers.Dense(128, activation='sigmoid'),\n",
    "  layers.Dense(num_classes)\n",
    "])\n",
    "\n",
    "\n",
    "\n",
    "model4.compile(optimizer = Adam(learning_rate=1e-6),\n",
    "              loss=tf.keras.losses.SparseCategoricalCrossentropy(from_logits=True),\n",
    "              metrics=['accuracy'])\n",
    "              \n",
    "model4_fit=model4.fit(train_data,validation_data = val_data, epochs=epochs, batch_size=BATCH_SIZE)  "
   ]
  },
  {
   "cell_type": "code",
   "execution_count": 48,
   "id": "76665499",
   "metadata": {},
   "outputs": [
    {
     "name": "stdout",
     "output_type": "stream",
     "text": [
      "dict_keys(['loss', 'accuracy', 'val_loss', 'val_accuracy'])\n"
     ]
    },
    {
     "data": {
      "image/png": "[encoded data removed]",
      "text/plain": [
       "<Figure size 432x288 with 1 Axes>"
      ]
     },
     "metadata": {
      "needs_background": "light"
     },
     "output_type": "display_data"
    },
    {
     "data": {
      "image/png": "[encoded data removed]",
      "text/plain": [
       "<Figure size 432x288 with 1 Axes>"
      ]
     },
     "metadata": {
      "needs_background": "light"
     },
     "output_type": "display_data"
    }
   ],
   "source": [
    "print(model4_fit.history.keys())\n",
    "plt.plot(model4_fit.history['accuracy'])\n",
    "plt.plot(model4_fit.history['val_accuracy'])\n",
    "plt.title('model accuracy')\n",
    "plt.ylabel('accuracy')\n",
    "plt.xlabel('epoch')\n",
    "plt.legend(['train', 'Val'], loc='upper left')\n",
    "plt.show()\n",
    "\n",
    "# summarize history for loss\n",
    "\n",
    "plt.plot(model4_fit.history['loss'])\n",
    "plt.plot(model4_fit.history['val_loss'])\n",
    "plt.title('model loss')\n",
    "plt.ylabel('loss')\n",
    "plt.xlabel('epoch')\n",
    "plt.legend(['train', 'Val'], loc='upper left')\n",
    "plt.show()"
   ]
  },
  {
   "cell_type": "code",
   "execution_count": null,
   "id": "eb67ed57",
   "metadata": {},
   "outputs": [],
   "source": []
  }
 ],
 "metadata": {
  "kernelspec": {
   "display_name": "Python 3 (ipykernel)",
   "language": "python",
   "name": "python3"
  },
  "language_info": {
   "codemirror_mode": {
    "name": "ipython",
    "version": 3
   },
   "file_extension": ".py",
   "mimetype": "text/x-python",
   "name": "python",
   "nbconvert_exporter": "python",
   "pygments_lexer": "ipython3",
   "version": "3.9.7"
  }
 },
 "nbformat": 4,
 "nbformat_minor": 5
}
